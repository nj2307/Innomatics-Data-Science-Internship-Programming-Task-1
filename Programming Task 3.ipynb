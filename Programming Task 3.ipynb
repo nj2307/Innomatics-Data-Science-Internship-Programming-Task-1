{
 "cells": [
  {
   "cell_type": "code",
   "execution_count": 1,
   "id": "bedf52e8",
   "metadata": {},
   "outputs": [
    {
     "name": "stdout",
     "output_type": "stream",
     "text": [
      "10\n",
      "10\n",
      "45°\n"
     ]
    }
   ],
   "source": [
    "#Find Angle MBC\n",
    "\n",
    "import math\n",
    "AB = int(input())\n",
    "BC= int(input())\n",
    "M = math.sqrt(AB**2+BC**2)\n",
    "theta = math.acos(BC/M )\n",
    "print(int(round(math.degrees(theta),0)),chr(176),sep='')"
   ]
  },
  {
   "cell_type": "code",
   "execution_count": 2,
   "id": "f70074ca",
   "metadata": {},
   "outputs": [
    {
     "name": "stdout",
     "output_type": "stream",
     "text": [
      "1+2j\n",
      "2.23606797749979\n",
      "1.1071487177940904\n"
     ]
    }
   ],
   "source": [
    "#Polar Coordinates\n",
    "\n",
    "import cmath\n",
    "z=complex(input())\n",
    "r, phi = cmath.polar(z)\n",
    "print(r)\n",
    "print(phi)"
   ]
  },
  {
   "cell_type": "code",
   "execution_count": 3,
   "id": "ceba19b4",
   "metadata": {},
   "outputs": [
    {
     "name": "stdout",
     "output_type": "stream",
     "text": [
      "5\n",
      "1\n",
      "121\n",
      "12321\n",
      "1234321\n",
      "123454321\n"
     ]
    }
   ],
   "source": [
    "#Triangle Quest 2\n",
    "\n",
    "for i in range(1,int(input())+1): \n",
    "    print((10 ** i - 1) ** 2 // 81)"
   ]
  },
  {
   "cell_type": "code",
   "execution_count": 4,
   "id": "5a3a1ec3",
   "metadata": {},
   "outputs": [
    {
     "name": "stdout",
     "output_type": "stream",
     "text": [
      "2\n",
      "4\n",
      "0\n",
      "2\n",
      "(0, 2)\n"
     ]
    }
   ],
   "source": [
    "#Mod Divmod\n",
    "\n",
    "c=int(input())\n",
    "d=int(input())\n",
    "print(c//d)\n",
    "print(c%d)\n",
    "print(divmod(c,d))"
   ]
  },
  {
   "cell_type": "code",
   "execution_count": 5,
   "id": "a765f322",
   "metadata": {},
   "outputs": [
    {
     "name": "stdout",
     "output_type": "stream",
     "text": [
      "4\n",
      "3\n",
      "5\n",
      "64\n",
      "4\n"
     ]
    }
   ],
   "source": [
    "#Power- mod power\n",
    "#You are given three integers: a ,b ,and m. Print two lines. On the first line, print the result of pow(a,b). On the second line, print the result of pow(a,b,m).\n",
    "\n",
    "a=int(input())\n",
    "b=int(input())\n",
    "m=int(input())\n",
    "print(pow(a,b))\n",
    "print(pow(a,b,m))"
   ]
  },
  {
   "cell_type": "code",
   "execution_count": 6,
   "id": "ca4107dc",
   "metadata": {},
   "outputs": [
    {
     "name": "stdout",
     "output_type": "stream",
     "text": [
      "2\n",
      "3\n",
      "4\n",
      "5\n",
      "1032\n"
     ]
    }
   ],
   "source": [
    "#Integer comes in all sizes\n",
    "\n",
    "a=int(input())\n",
    "b=int(input())\n",
    "c=int(input())\n",
    "d=int(input())\n",
    "print((a**b)+(c**d))"
   ]
  },
  {
   "cell_type": "code",
   "execution_count": 7,
   "id": "94dd39b9",
   "metadata": {},
   "outputs": [
    {
     "name": "stdout",
     "output_type": "stream",
     "text": [
      "5\n",
      "1\n",
      "22\n",
      "333\n",
      "4444\n"
     ]
    }
   ],
   "source": [
    "#Traingle quest\n",
    "\n",
    "for i in range(1,int(input())):\n",
    "    print(((10**i-1)*i//9))"
   ]
  }
 ],
 "metadata": {
  "kernelspec": {
   "display_name": "Python 3",
   "language": "python",
   "name": "python3"
  },
  "language_info": {
   "codemirror_mode": {
    "name": "ipython",
    "version": 3
   },
   "file_extension": ".py",
   "mimetype": "text/x-python",
   "name": "python",
   "nbconvert_exporter": "python",
   "pygments_lexer": "ipython3",
   "version": "3.8.8"
  }
 },
 "nbformat": 4,
 "nbformat_minor": 5
}
