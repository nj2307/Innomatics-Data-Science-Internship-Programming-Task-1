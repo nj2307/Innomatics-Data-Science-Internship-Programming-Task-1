{
 "cells": [
  {
   "cell_type": "code",
   "execution_count": 1,
   "id": "8d61773e",
   "metadata": {},
   "outputs": [
    {
     "name": "stdout",
     "output_type": "stream",
     "text": [
      "1\n",
      "1\n",
      "1\n",
      "2\n",
      "[[0, 0, 0], [0, 0, 1], [0, 1, 0], [1, 0, 0], [1, 1, 1]]\n"
     ]
    }
   ],
   "source": [
    "#List Comprehensions\n",
    "\n",
    "x = int(input().strip())\n",
    "y = int(input().strip())\n",
    "z = int(input().strip())\n",
    "n = int(input().strip())\n",
    "print ([ [ i, j, k] \n",
    "for i in range( x + 1) \n",
    "for j in range( y + 1) \n",
    "for k in range ( z + 1 ) \n",
    "if ( ( i + j + k) != n )])"
   ]
  },
  {
   "cell_type": "code",
   "execution_count": 4,
   "id": "124731b8",
   "metadata": {},
   "outputs": [
    {
     "name": "stdout",
     "output_type": "stream",
     "text": [
      "5\n",
      "2 4 3 5 6\n",
      "5\n"
     ]
    }
   ],
   "source": [
    "#Find the Runner-up score!\n",
    "#Given the participants' score sheet for your University Sports Day, you are required to find the runner-up score. You are given n scores. Store them in a list and find the score of the runner-up.\n",
    "\n",
    "n = int(input().strip())\n",
    "arr = list(map(int, input().split()))\n",
    "print(sorted(set(arr), reverse=True)[1])"
   ]
  },
  {
   "cell_type": "code",
   "execution_count": 2,
   "id": "feaac899",
   "metadata": {},
   "outputs": [
    {
     "name": "stdout",
     "output_type": "stream",
     "text": [
      "5\n",
      "UK\n",
      "USA\n",
      "UK\n",
      "India\n",
      "Brazil\n",
      "4\n"
     ]
    }
   ],
   "source": [
    "#set.add()\n",
    "#Apply your knowledge of the .add() operation to help your friend Rupal.Rupal has a huge collection of country stamps. She decided to count the total number of distinct country stamps in her collection. She asked for your help. You pick the stamps one by one from a stack of N country stamps. Find the total number of distinct country stamps.\n",
    "\n",
    "distinct_country_stamps=set()\n",
    "for i in range(int(input())):\n",
    "    distinct_country_stamps.add(input())\n",
    "print(len(distinct_country_stamps))"
   ]
  },
  {
   "cell_type": "code",
   "execution_count": null,
   "id": "ec6be4f2",
   "metadata": {},
   "outputs": [
    {
     "name": "stdout",
     "output_type": "stream",
     "text": [
      "3\n",
      "5\n",
      "12356\n",
      "9\n",
      "985632147\n",
      "False\n"
     ]
    }
   ],
   "source": [
    "# Check Subset\n",
    "\n",
    "for i in range(int(input())):\n",
    "    a = int(input())\n",
    "    a1 = set(map(int, input().split()))\n",
    "\n",
    "    b = int(input())\n",
    "    b1 = set(map(int, input().split()))\n",
    "\n",
    "    if len(a1 - b1) == 0:\n",
    "        print(\"True\")\n",
    "    else:\n",
    "        print(\"False\")"
   ]
  },
  {
   "cell_type": "code",
   "execution_count": 1,
   "id": "ec73bea3",
   "metadata": {},
   "outputs": [
    {
     "name": "stdout",
     "output_type": "stream",
     "text": [
      "5\n",
      "1 2 3 4 5\n",
      "5\n",
      "3 7 66 89 1\n",
      "6\n"
     ]
    }
   ],
   "source": [
    "#Set .symmetric_difference() Operation\n",
    "\n",
    "a= int(input())\n",
    "a1 = set(input().split())\n",
    "\n",
    "b = int(input())\n",
    "b1 = set(input().split())\n",
    "\n",
    "print(len(a1 ^ b1))"
   ]
  },
  {
   "cell_type": "code",
   "execution_count": 2,
   "id": "ac71c133",
   "metadata": {},
   "outputs": [
    {
     "name": "stdout",
     "output_type": "stream",
     "text": [
      "4\n",
      "5 6 7 8\n",
      "4\n",
      "5 6 3 2\n",
      "2\n"
     ]
    }
   ],
   "source": [
    "#Set.difference()\n",
    "\n",
    "n1 = int(input())\n",
    "set_1 = set(map(int,input().split()))\n",
    "n2 = int(input())\n",
    "set_2 = set(map(int,input().split()))\n",
    "print(len(set_1-set_2))"
   ]
  },
  {
   "cell_type": "code",
   "execution_count": null,
   "id": "71d9800a",
   "metadata": {},
   "outputs": [],
   "source": [
    "#Nested Lists\n",
    "\n",
    "Result =[]\n",
    "scorelist = []\n",
    "\n",
    "if __name__ == '__main__':\n",
    "    for _ in range(int(input())):\n",
    "        name = input()\n",
    "        score = float(input())\n",
    "        Result+=[[name,score]]\n",
    "        scorelist+=[score]\n",
    "    b=sorted(list(set(scorelist)))[1] \n",
    "\n",
    "    for a,c in sorted(Result):\n",
    "        if c==b:\n",
    "            print(a)"
   ]
  },
  {
   "cell_type": "code",
   "execution_count": 2,
   "id": "f59c33c9",
   "metadata": {},
   "outputs": [
    {
     "name": "stdout",
     "output_type": "stream",
     "text": [
      "3\n",
      "raj 34 56 78\n",
      "sahil 45 67 90\n",
      "Mansi 44 88 99\n",
      "Mansi\n",
      "77.00\n"
     ]
    }
   ],
   "source": [
    "#Finding The Percentage\n",
    "if __name__ == '__main__':\n",
    "    a = int(input())\n",
    "    b = [input().split() for i in range(a)]\n",
    "    c = input()\n",
    "    d = {}\n",
    "    for i in range(a):\n",
    "        d[b[i][0]] = list(map(float,b[i][1:]))\n",
    "    print(f'{sum(d[c])/len(d[c]):.2f}') "
   ]
  },
  {
   "cell_type": "code",
   "execution_count": 5,
   "id": "a79fd8ea",
   "metadata": {},
   "outputs": [
    {
     "name": "stdout",
     "output_type": "stream",
     "text": [
      "9\n",
      "1 2 3 4 5 6 7 8 9\n",
      "9\n",
      "10 1 2 3 11 21 55 6 8\n",
      "13\n"
     ]
    }
   ],
   "source": [
    "#Set.union() Operation\n",
    "\n",
    "a = int(input())\n",
    "\n",
    "english_student = set(input().split())\n",
    "\n",
    "b = int(input())\n",
    "\n",
    "french_student = set(input().split())\n",
    "\n",
    "print(len(english_student.union(french_student)))"
   ]
  },
  {
   "cell_type": "code",
   "execution_count": 7,
   "id": "27ab43c8",
   "metadata": {},
   "outputs": [
    {
     "name": "stdout",
     "output_type": "stream",
     "text": [
      "5\n",
      "56 89 78 88 45\n",
      "71.2\n"
     ]
    }
   ],
   "source": [
    "#Introduction to sets\n",
    "\n",
    "def average(array):\n",
    "    a = set(array)\n",
    "    avg = sum(a)/len(a)\n",
    "    return (avg)\n",
    "\n",
    "if __name__ == '__main__':\n",
    "    n = int(input())\n",
    "    arr = list(map(int, input().split()))\n",
    "    result = average(arr)\n",
    "    print(result)"
   ]
  },
  {
   "cell_type": "code",
   "execution_count": 9,
   "id": "9a67a228",
   "metadata": {},
   "outputs": [
    {
     "name": "stdout",
     "output_type": "stream",
     "text": [
      "9\n",
      "1 2 3 4 5 6 7 8 9\n",
      "9\n",
      "10 1 2 3 11 21 55 6 8\n",
      "5\n"
     ]
    }
   ],
   "source": [
    "#Set.intersection()\n",
    "\n",
    "a = int(input())\n",
    "\n",
    "english_student = set(input().split())\n",
    "\n",
    "b = int(input())\n",
    "\n",
    "french_student = set(input().split())\n",
    "\n",
    "print(len(english_student.intersection(french_student)))"
   ]
  },
  {
   "cell_type": "code",
   "execution_count": null,
   "id": "8e5f3e33",
   "metadata": {},
   "outputs": [],
   "source": [
    "#Tuples\n",
    "\n",
    "if __name__ == '__main__':\n",
    "    n = int(input())\n",
    "    integer_list = map(int, input().split())\n",
    "    print(hash(tuple(integer_list)))"
   ]
  },
  {
   "cell_type": "code",
   "execution_count": null,
   "id": "66b3134e",
   "metadata": {},
   "outputs": [],
   "source": [
    "#Set Mutations\n",
    "len_set = int(input())\n",
    "\n",
    "storage = set(map(int, input().split()))\n",
    "\n",
    "op_len = int(input())\n",
    "\n",
    "for i in range(op_len):\n",
    "    operation = input().split()\n",
    "    if operation[0] == 'intersection_update':\n",
    "        temp_storage = set(map(int, input().split()))\n",
    "        storage.intersection_update(temp_storage)\n",
    "    elif operation[0] == 'update':\n",
    "        temp_storage = set(map(int, input().split()))\n",
    "        storage.update(temp_storage)\n",
    "    elif operation[0] == 'symmetric_difference_update':\n",
    "        temp_storage = set(map(int, input().split()))\n",
    "        storage.symmetric_difference_update(temp_storage)\n",
    "    elif operation[0] == 'difference_update':\n",
    "        temp_storage = set(map(int, input().split()))\n",
    "        storage.difference_update(temp_storage)\n",
    "    else :\n",
    "        assert False\n",
    "\n",
    "print(sum(storage))"
   ]
  },
  {
   "cell_type": "code",
   "execution_count": null,
   "id": "6550dcb5",
   "metadata": {},
   "outputs": [],
   "source": [
    "# Symmetric Differnece\n",
    "\n",
    "m, m_list, n, n_list = int(input()), set(map(int, input().split())), int(input()), set(map(int, input().split()))\n",
    "srt = sorted(m_list.symmetric_difference(n_list))\n",
    "for x in srt:\n",
    "    print(x)"
   ]
  },
  {
   "cell_type": "code",
   "execution_count": null,
   "id": "f60c544a",
   "metadata": {},
   "outputs": [],
   "source": [
    "# Set.discard(),.remove() & .pop()\n",
    "\n",
    "n = int(input())\n",
    "s = set(map(int,input().split()))\n",
    "num = int(input())\n",
    "for i in range(num):\n",
    "    ip = input().split()\n",
    "    if ip[0]==\"remove\":\n",
    "        s.remove(int(ip[1]))\n",
    "    elif ip[0]==\"discard\":\n",
    "        s.discard(int(ip[1]))\n",
    "    else :\n",
    "        s.pop()\n",
    "print(sum(list(s)))"
   ]
  },
  {
   "cell_type": "code",
   "execution_count": null,
   "id": "b7fc2f03",
   "metadata": {},
   "outputs": [],
   "source": [
    "# Check strict Superset\n",
    "\n",
    "s = set(input().split())\n",
    "N = int(input())\n",
    "output = True\n",
    "\n",
    "for i in range(N):\n",
    "    s2 = set(input().split())\n",
    "    if not s2.issubset(s):\n",
    "        output = False\n",
    "    if len(s2) >= len(s):\n",
    "        output = False\n",
    "\n",
    "print(output)"
   ]
  },
  {
   "cell_type": "code",
   "execution_count": null,
   "id": "951be6a6",
   "metadata": {},
   "outputs": [
    {
     "name": "stdout",
     "output_type": "stream",
     "text": [
      "12\n",
      "insert 0 5\n",
      "insert 1 10\n",
      "insert 3 4\n",
      "print\n",
      "[5, 10, 4]\n",
      "pop\n",
      "print\n",
      "[5, 10]\n",
      "reverse\n",
      "print\n",
      "[10, 5]\n"
     ]
    }
   ],
   "source": [
    "#Lists\n",
    "\n",
    "if __name__ == '__main__':\n",
    "    N = int(input())\n",
    "    l = []\n",
    "    for i in range(N):\n",
    "        s = list(input().split())\n",
    "        if s[0]=='insert':\n",
    "            l.insert(int(s[1]),int(s[2]))\n",
    "        if s[0]=='remove':\n",
    "            l.remove(int(s[1]))\n",
    "        if s[0]=='append':\n",
    "            l.append(int(s[1]))\n",
    "        if s[0]=='sort':\n",
    "            l.sort()\n",
    "        if s[0]=='pop':\n",
    "            l.pop()\n",
    "        if s[0]=='reverse':\n",
    "            l.reverse()     \n",
    "        if s[0]=='print':\n",
    "            print(l)"
   ]
  },
  {
   "cell_type": "code",
   "execution_count": 2,
   "id": "0d0bcb7b",
   "metadata": {},
   "outputs": [
    {
     "name": "stdout",
     "output_type": "stream",
     "text": [
      "3 2\n",
      "1 5 3\n",
      "3 1\n",
      "4 5\n",
      "1\n"
     ]
    }
   ],
   "source": [
    "#No idea!\n",
    "\n",
    "# taking input\n",
    "n, m = input().split()\n",
    "sc_ar = input().split()\n",
    "\n",
    "# converting to set\n",
    "A = set(input().split())\n",
    "B = set(input().split())\n",
    "\n",
    "# printing using list comprehension\n",
    "print (sum([(i in A) - (i in B) for i in sc_ar]))"
   ]
  },
  {
   "cell_type": "code",
   "execution_count": 1,
   "id": "ff8bbe22",
   "metadata": {},
   "outputs": [
    {
     "name": "stdout",
     "output_type": "stream",
     "text": [
      "5\n",
      "1 2 3 6 5 4 4 2 5 3 6 1 6 5 3 2 4 1 2 5 1 4 3 6 8 4 3 1 5 6 2 \n",
      "8\n"
     ]
    }
   ],
   "source": [
    "#The captain's room\n",
    "\n",
    "if __name__ == '__main__':\n",
    "    a = int(input())\n",
    "    rooms = list(map(int, input().split()))\n",
    "    roomSet = set(rooms)\n",
    "    roomSum = sum(rooms)\n",
    "    roomSetSum = sum(roomSet) * a\n",
    "    captiansRoom = (roomSetSum - roomSum) // (a - 1)\n",
    "    print(captiansRoom)"
   ]
  },
  {
   "cell_type": "code",
   "execution_count": null,
   "id": "0eedd9ff",
   "metadata": {},
   "outputs": [],
   "source": []
  }
 ],
 "metadata": {
  "kernelspec": {
   "display_name": "Python 3",
   "language": "python",
   "name": "python3"
  },
  "language_info": {
   "codemirror_mode": {
    "name": "ipython",
    "version": 3
   },
   "file_extension": ".py",
   "mimetype": "text/x-python",
   "name": "python",
   "nbconvert_exporter": "python",
   "pygments_lexer": "ipython3",
   "version": "3.8.8"
  }
 },
 "nbformat": 4,
 "nbformat_minor": 5
}
