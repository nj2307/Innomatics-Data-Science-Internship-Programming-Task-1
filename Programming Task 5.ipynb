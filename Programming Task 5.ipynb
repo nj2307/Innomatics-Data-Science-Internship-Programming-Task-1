{
 "cells": [
  {
   "cell_type": "code",
   "execution_count": 1,
   "id": "7cd43321",
   "metadata": {},
   "outputs": [
    {
     "name": "stdout",
     "output_type": "stream",
     "text": [
      "100,000,000.000\n",
      "100\n",
      "000\n",
      "000\n",
      "000\n"
     ]
    }
   ],
   "source": [
    "#Re.split()\n",
    "\n",
    "regex_pattern = r\"[.,]+\"\n",
    "import re\n",
    "print(\"\\n\".join(re.split(regex_pattern, input())))"
   ]
  },
  {
   "cell_type": "code",
   "execution_count": null,
   "id": "7cee30c1",
   "metadata": {},
   "outputs": [
    {
     "name": "stdout",
     "output_type": "stream",
     "text": [
      "4\n",
      "4.0o0\n",
      "False\n",
      "-1000\n",
      "False\n",
      "-1.55\n",
      "True\n"
     ]
    }
   ],
   "source": [
    "# Detecting Floating Point Number\n",
    "\n",
    "import re\n",
    "n = int(input())\n",
    "reg = '^[-+]?\\d*[.]\\d+$'\n",
    "for i in range(n):\n",
    "    txt= input()\n",
    "    if re.search(reg,txt): print(True)\n",
    "    else: print(False)"
   ]
  },
  {
   "cell_type": "code",
   "execution_count": 1,
   "id": "7922822c",
   "metadata": {},
   "outputs": [
    {
     "name": "stdout",
     "output_type": "stream",
     "text": [
      "aaadaa \n",
      "aa\n",
      "(0, 1)\n",
      "(1, 2)\n",
      "(4, 5)\n"
     ]
    }
   ],
   "source": [
    "#Re.start() & Re.end()\n",
    "\n",
    "S = input()\n",
    "k = input()\n",
    "import re\n",
    "pattern = re.compile(k)\n",
    "r = pattern.search(S)\n",
    "if not r: print(\"(-1, -1)\")\n",
    "while r:\n",
    "    print(\"({0}, {1})\".format(r.start(), r.end() - 1))\n",
    "    r = pattern.search(S,r.start() + 1)"
   ]
  },
  {
   "cell_type": "code",
   "execution_count": 3,
   "id": "88f90ebc",
   "metadata": {},
   "outputs": [
    {
     "name": "stdout",
     "output_type": "stream",
     "text": [
      "2\n",
      "9587456281\n",
      "YES\n",
      "1252478965\n",
      "NO\n"
     ]
    }
   ],
   "source": [
    "#Validating phone numbers\n",
    "\n",
    "import re\n",
    "\n",
    "for _ in range(int(input())):\n",
    "    print('YES' if re.match(r'^[7-9]\\d{9}$', input()) else 'NO')"
   ]
  },
  {
   "cell_type": "code",
   "execution_count": null,
   "id": "18c1d56b",
   "metadata": {},
   "outputs": [],
   "source": [
    "\n",
    "#Hex Color Code\n",
    "\n",
    "import re\n",
    "\n",
    "T = int(input())\n",
    "in_css = False\n",
    "for _ in range(T):\n",
    "    s = input()\n",
    "    if '{' in s:\n",
    "        in_css = True\n",
    "    elif '}' in s:\n",
    "        in_css = False\n",
    "    elif in_css:\n",
    "        for color in re.findall('#[0-9a-fA-F]{3,6}', s):\n",
    "            print(color)"
   ]
  },
  {
   "cell_type": "code",
   "execution_count": 1,
   "id": "7a83062e",
   "metadata": {},
   "outputs": [
    {
     "name": "stdout",
     "output_type": "stream",
     "text": [
      "2\n",
      "B1CD102354\n",
      "Invalid\n",
      "B1CDEF2354\n",
      "Valid\n"
     ]
    }
   ],
   "source": [
    "#Validating UID\n",
    "\n",
    "import re\n",
    "pattern = r'(?!.*(.).*\\1)(?=.*\\d.*\\d.*\\d)(?=.*[A-Z].*[A-Z])[A-Za-z0-9]{10}'\n",
    "\n",
    "for _ in range(int(input())):\n",
    "    if re.match(pattern, input()):\n",
    "        print('Valid')    \n",
    "    else:  \n",
    "        print('Invalid')"
   ]
  },
  {
   "cell_type": "code",
   "execution_count": 2,
   "id": "528c4f9a",
   "metadata": {},
   "outputs": [
    {
     "name": "stdout",
     "output_type": "stream",
     "text": [
      "12345678910111213141516171820212223\n",
      "1\n"
     ]
    }
   ],
   "source": [
    "#Group(), Groups() & Groupdict()\n",
    "\n",
    "import re\n",
    "m = re.findall(r\"([A-Za-z0-9])\\1+\",input())\n",
    "if m:\n",
    "    print(m[0])\n",
    "else:\n",
    "    print(-1)"
   ]
  },
  {
   "cell_type": "code",
   "execution_count": 3,
   "id": "6cf21042",
   "metadata": {},
   "outputs": [
    {
     "name": "stdout",
     "output_type": "stream",
     "text": [
      "rabcdeefgyYhFjkIoomnpOeorteeeeet\n",
      "ee\n",
      "Ioo\n",
      "Oeo\n",
      "eeeee\n"
     ]
    }
   ],
   "source": [
    "#Re.findall() & Re.finditer()\n",
    "\n",
    "import re\n",
    "v = \"aeiou\"\n",
    "c = \"qwrtypsdfghjklzxcvbnm\"\n",
    "m = re.findall(r\"(?<=[%s])([%s]{2,})[%s]\" % (c, v, c), input(), flags = re.I)\n",
    "print('\\n'.join(m or ['-1']))"
   ]
  },
  {
   "cell_type": "code",
   "execution_count": 4,
   "id": "c71a9347",
   "metadata": {},
   "outputs": [
    {
     "name": "stdout",
     "output_type": "stream",
     "text": [
      "CDXXI\n",
      "True\n"
     ]
    }
   ],
   "source": [
    "#Validating Roman Numerals\n",
    "\n",
    "thousand = 'M{0,3}'\n",
    "hundred = '(C[MD]|D?C{0,3})'\n",
    "ten = '(X[CL]|L?X{0,3})'\n",
    "digit = '(I[VX]|V?I{0,3})'\n",
    "regex_pattern = r\"M{0,3}(C[MD]|D?C{0,3})(X[CL]|L?X{0,3})(I[VX]|V?I{0,3})$\" \n",
    "import re\n",
    "print(str(bool(re.match(regex_pattern, input()))))"
   ]
  },
  {
   "cell_type": "code",
   "execution_count": null,
   "id": "c8547a8f",
   "metadata": {},
   "outputs": [
    {
     "name": "stdout",
     "output_type": "stream",
     "text": [
      "9\n",
      "<head> <title>HTML</title> </head> <object type=\"application/x-flash\"   data=\"your-file.swf\"   width=\"0\" height=\"0\">   <!-- <param name=\"movie\" value=\"your-file.swf\" /> -->   <param name=\"quality\" value=\"high\"/> </object>\n"
     ]
    }
   ],
   "source": [
    "#Detect HTML Tags, Attributes and Attribute Values\n",
    "\n",
    "from html.parser import HTMLParser\n",
    "\n",
    "class MyHTMLParser(HTMLParser):\n",
    "    def handle_starttag(self, tag, attr):\n",
    "        print(tag)\n",
    "        for i in attr:\n",
    "            print(f'-> {i[0]} > {i[1]}')\n",
    "   \n",
    "html=\"\"\n",
    "for i in range(int(input())):\n",
    "    html += input().rstrip()\n",
    "    html += '\\n'\n",
    "                \n",
    "parser = MyHTMLParser()\n",
    "parser.feed(html)\n",
    "parser.close()"
   ]
  },
  {
   "cell_type": "code",
   "execution_count": 3,
   "id": "b49f90f8",
   "metadata": {},
   "outputs": [
    {
     "name": "stdout",
     "output_type": "stream",
     "text": [
      "2\n",
      "VIRUS <virus!@variable.:p>\n",
      "DEXTER <dexter@hotmail.com>\n",
      "DEXTER <dexter@hotmail.com>\n"
     ]
    }
   ],
   "source": [
    "#Validating and Parsing Email Addresses\n",
    "\n",
    "import re\n",
    "\n",
    "N = int(input())\n",
    "\n",
    "for i in range(N):\n",
    "    name, email = input().split()\n",
    "    pattern=\"<[a-z][a-zA-Z0-9\\-\\.\\_]+@[a-zA-Z]+\\.[a-zA-Z]{1,3}>\"\n",
    "    if bool(re.match(pattern, email)):\n",
    "        print(name,email)"
   ]
  },
  {
   "cell_type": "code",
   "execution_count": 4,
   "id": "bd1f4506",
   "metadata": {},
   "outputs": [
    {
     "name": "stdout",
     "output_type": "stream",
     "text": [
      "2\n",
      "<html><head><title>HTML Parser - I</title></head>\n",
      "Start : html\n",
      "Start : head\n",
      "Start : title\n",
      "End   : title\n",
      "End   : head\n",
      "<body data-modal-target class='1'><h1>HackerRank</h1><br /></body></html>\n",
      "Start : body\n",
      "-> data-modal-target > None\n",
      "-> class > 1\n",
      "Start : h1\n",
      "End   : h1\n",
      "Empty : br\n",
      "End   : body\n",
      "End   : html\n"
     ]
    }
   ],
   "source": [
    "#HTML Parser- Part 1\n",
    "\n",
    "from html.parser import HTMLParser\n",
    "\n",
    "class MyHTMLParser(HTMLParser):\n",
    "    def handle_starttag(self, tag, attrs):\n",
    "        print ('Start :', tag)\n",
    "        for ele in attrs:\n",
    "            print ('->', ele[0], '>', ele[1])\n",
    "\n",
    "    def handle_endtag(self, tag):\n",
    "        print ('End   :', tag)\n",
    "\n",
    "    def handle_startendtag(self, tag, attrs):\n",
    "        print ('Empty :', tag)\n",
    "        for ele in attrs:\n",
    "            print ('->', ele[0], '>', ele[1])\n",
    "\n",
    "parser = MyHTMLParser()\n",
    "for _ in range(int(input())):\n",
    "    parser.feed(input())"
   ]
  },
  {
   "cell_type": "code",
   "execution_count": 1,
   "id": "49f3d853",
   "metadata": {},
   "outputs": [
    {
     "name": "stdout",
     "output_type": "stream",
     "text": [
      "4\n",
      "<!--[if IE 9]>IE9-specific content\n",
      "<![endif]-->\n",
      "<div> Welcome to HackerRank</div>\n",
      "<!--[if IE 9]>IE9-specific content<![endif]-->\n",
      ">>> Multi-line Comment\n",
      "[if IE 9]>IE9-specific content\n",
      "<![endif]\n",
      ">>> Data\n",
      " Welcome to HackerRank\n",
      ">>> Single-line Comment\n",
      "[if IE 9]>IE9-specific content<![endif]\n"
     ]
    }
   ],
   "source": [
    "#HTML Parser- Part 2\n",
    "\n",
    "from html.parser import HTMLParser\n",
    "import re\n",
    "\n",
    "class MyHTMLParser(HTMLParser):\n",
    "  \n",
    "    def handle_comment(self, data):\n",
    "        if re.search(r'\\n', data):\n",
    "            print('>>> Multi-line Comment')\n",
    "            print(data)\n",
    "        else:\n",
    "            print('>>> Single-line Comment')\n",
    "            print(data)\n",
    "\n",
    "    def handle_data(self, data):\n",
    "        if data!='\\n':\n",
    "            print(\">>> Data\")\n",
    "            print(data)\n",
    "  \n",
    "html = \"\"       \n",
    "for i in range(int(input())):\n",
    "    html += input().rstrip()\n",
    "    html += '\\n'\n",
    "    \n",
    "parser = MyHTMLParser()\n",
    "parser.feed(html)\n",
    "parser.close()"
   ]
  },
  {
   "cell_type": "code",
   "execution_count": 2,
   "id": "d9478f56",
   "metadata": {},
   "outputs": [
    {
     "name": "stdout",
     "output_type": "stream",
     "text": [
      "6\n",
      "4123456789123456\n",
      "Valid\n",
      "5123-4567-8912-3456\n",
      "Valid\n",
      "5133-3367-8912-3456\n",
      "Invalid\n",
      "5123 - 3567 - 8912 - 3456\n",
      "Invalid\n",
      "61234-567-8912-3456\n",
      "Invalid\n",
      "4123356789123456\n",
      "Valid\n"
     ]
    }
   ],
   "source": [
    "#Validating Credit Card Numbers\n",
    "\n",
    "# importing the regular expression module\n",
    "import re\n",
    "\n",
    "# compile the patterns\n",
    "pattern = re.compile(\n",
    "    r'^'\n",
    "    r'(?!.*(\\d)(-?\\1){3})'\n",
    "    r'[456]\\d{3}'\n",
    "    r'(?:-?\\d{4}){3}'\n",
    "    r'$')\n",
    "\n",
    "# using for loop to the input from user \n",
    "for _ in range(int(input().strip())):\n",
    "    \n",
    "    #using pattern to search if the number is valid\n",
    "    print('Valid' if pattern.search(input().strip()) else 'Invalid')"
   ]
  },
  {
   "cell_type": "code",
   "execution_count": 3,
   "id": "7a8d31f0",
   "metadata": {},
   "outputs": [
    {
     "name": "stdout",
     "output_type": "stream",
     "text": [
      "110000\n",
      "False\n"
     ]
    }
   ],
   "source": [
    "#Validating Postal Codes\n",
    "\n",
    "regex_integer_in_range = r\"^([1-9][0-9]{5})$\"\n",
    "regex_alternating_repetitive_digit_pair = r\"(?=(\\d)\\d\\1)\"\n",
    "\n",
    "import re\n",
    "P = input()\n",
    "\n",
    "print (bool(re.match(regex_integer_in_range, P)) \n",
    "and len(re.findall(regex_alternating_repetitive_digit_pair, P)) < 2)"
   ]
  },
  {
   "cell_type": "code",
   "execution_count": null,
   "id": "726fdf6b",
   "metadata": {},
   "outputs": [],
   "source": [
    "#Regex Substitution\n",
    "\n",
    "# importing the re module\n",
    "import re\n",
    "\n",
    "# using for loop\n",
    "for i in range(int(input())):\n",
    "    \n",
    "    # using re.sub method and lambda function\n",
    "    print(re.sub(r'(?<= )(&&|\\|\\|)(?= )', lambda x: 'and' if x.group() == '&&' else 'or', input()))"
   ]
  },
  {
   "cell_type": "code",
   "execution_count": 3,
   "id": "1bc42bca",
   "metadata": {},
   "outputs": [
    {
     "name": "stdout",
     "output_type": "stream",
     "text": [
      "7 3\n",
      "Tsi\n",
      "h%x\n",
      "i #\n",
      "sM \n",
      "$a\n",
      "#t%\n",
      "ir!\n",
      "This is Matr\n"
     ]
    }
   ],
   "source": [
    "#matrix script\n",
    "\n",
    "import math\n",
    "import os\n",
    "import random\n",
    "import re\n",
    "import sys\n",
    "\n",
    "first_multiple_input = input().rstrip().split()\n",
    "\n",
    "n = int(first_multiple_input[0])\n",
    "m = int(first_multiple_input[1])\n",
    "\n",
    "matrix = []\n",
    "\n",
    "for _ in range(n):\n",
    "    matrix_item = input()\n",
    "    matrix.append(matrix_item)\n",
    "\n",
    "# start   \n",
    "matrix = list(zip(*matrix))\n",
    "\n",
    "sample = str()\n",
    "\n",
    "for words in matrix:\n",
    "    for char in words:\n",
    "        sample += char\n",
    "       \n",
    "print(re.sub(r'(?<=\\w)([^\\w\\d]+)(?=\\w)', ' ', sample))"
   ]
  },
  {
   "cell_type": "code",
   "execution_count": null,
   "id": "2763d2d8",
   "metadata": {},
   "outputs": [],
   "source": []
  }
 ],
 "metadata": {
  "kernelspec": {
   "display_name": "Python 3",
   "language": "python",
   "name": "python3"
  },
  "language_info": {
   "codemirror_mode": {
    "name": "ipython",
    "version": 3
   },
   "file_extension": ".py",
   "mimetype": "text/x-python",
   "name": "python",
   "nbconvert_exporter": "python",
   "pygments_lexer": "ipython3",
   "version": "3.8.8"
  }
 },
 "nbformat": 4,
 "nbformat_minor": 5
}
