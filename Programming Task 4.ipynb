{
 "cells": [
  {
   "cell_type": "code",
   "execution_count": 6,
   "id": "206816c9",
   "metadata": {},
   "outputs": [
    {
     "name": "stdout",
     "output_type": "stream",
     "text": [
      "Hello World\n",
      "hELLO wORLD\n"
     ]
    }
   ],
   "source": [
    "#sWAP cASE\n",
    "#You are given a string and your task is to swap cases. In other words, convert all lowercase letters to uppercase letters and vice versa.\n",
    "\n",
    "def swap_case(s):\n",
    "    return s.swapcase()\n",
    "\n",
    "\n",
    "if __name__ == '__main__':\n",
    "    s = input()\n",
    "    result = swap_case(s)\n",
    "    print(result)"
   ]
  },
  {
   "cell_type": "code",
   "execution_count": 2,
   "id": "1f45a263",
   "metadata": {},
   "outputs": [
    {
     "name": "stdout",
     "output_type": "stream",
     "text": [
      "this is a string\n",
      "this-is-a-string\n"
     ]
    }
   ],
   "source": [
    "#string Split and Join\n",
    "#You are given a string. Split the string on a \" \" (space) delimiter and join using a - hyphen.\n",
    "\n",
    "def split_and_join(line):\n",
    "    return \"-\".join(line.split(\" \"))\n",
    "if __name__ == '__main__':\n",
    "    line = input()\n",
    "    result = split_and_join(line)\n",
    "    print(result)"
   ]
  },
  {
   "cell_type": "code",
   "execution_count": 4,
   "id": "27e46ead",
   "metadata": {},
   "outputs": [
    {
     "name": "stdout",
     "output_type": "stream",
     "text": [
      "Monica \n",
      "Geller\n",
      "Hello Monica  Geller! You just delved into python.\n"
     ]
    }
   ],
   "source": [
    "#What's your Name?\n",
    "#You are given the firstname and lastname of a person on two different lines. Your task is to read them and print the following:\n",
    "\n",
    "def print_full_name(first, last):\n",
    "    print(\"Hello \" + first_name, last_name+ \"! You just delved into python.\")\n",
    "if __name__ == '__main__':\n",
    "    first_name = input()\n",
    "    last_name = input()\n",
    "    print_full_name(first_name, last_name)"
   ]
  },
  {
   "cell_type": "code",
   "execution_count": null,
   "id": "167d6120",
   "metadata": {},
   "outputs": [],
   "source": [
    "#Text Wrap\n",
    "#You are given a string S and width W.Your task is to wrap the string into a paragraph of width W.\n",
    "\n",
    "import textwrap\n",
    "def wrap(string, max_width):\n",
    "    result = textwrap.fill(string,max_width)\n",
    "    return result\n",
    "if __name__ == '__main__':\n",
    "    string, max_width = input(), int(input())\n",
    "    result = wrap(string, max_width)\n",
    "    print(result)"
   ]
  },
  {
   "cell_type": "code",
   "execution_count": null,
   "id": "154e50e8",
   "metadata": {},
   "outputs": [],
   "source": [
    "#String Validators\n",
    "\n",
    "n = input()\n",
    "print (any(c.isalnum() for c in n))\n",
    "print(any(c.isalpha() for c in n))\n",
    "print(any(c.isdigit() for c in n))\n",
    "print(any(c.islower() for c in n))\n",
    "print(any(c.isupper() for c in n))"
   ]
  },
  {
   "cell_type": "code",
   "execution_count": null,
   "id": "9b70b75b",
   "metadata": {},
   "outputs": [],
   "source": [
    "#Text Alignment\n",
    "\n",
    "thickness = int(input()) #This must be an odd number\n",
    "c = 'H'\n",
    "\n",
    "#Top Cone\n",
    "for i in range(thickness):\n",
    "    print((c*i).rjust(thickness-1)+c+(c*i).ljust(thickness-1))\n",
    "\n",
    "#Top Pillars\n",
    "for i in range(thickness+1):\n",
    "    print((c*thickness).center(thickness*2)+(c*thickness).center(thickness*6))\n",
    "\n",
    "#Middle Belt\n",
    "for i in range((thickness+1)//2):\n",
    "    print((c*thickness*5).center(thickness*6))    \n",
    "\n",
    "#Bottom Pillars\n",
    "for i in range(thickness+1):\n",
    "    print((c*thickness).center(thickness*2)+(c*thickness).center(thickness*6))    \n",
    "\n",
    "#Bottom Cone\n",
    "for i in range(thickness):\n",
    "    print(((c*(thickness-i-1)).rjust(thickness)+c+(c*(thickness-i-1)).ljust(thickness)).rjust(thickness*6))"
   ]
  },
  {
   "cell_type": "code",
   "execution_count": null,
   "id": "e24e6cff",
   "metadata": {},
   "outputs": [],
   "source": [
    "#Designer Door Mat\n",
    "\n",
    "h,w=list(map(int,input().split()))\n",
    "k=1\n",
    "for i in range(h):\n",
    "    if i<h//2 :\n",
    "      print((\".|.\"*k).center(w,\"-\"))\n",
    "      k+=2\n",
    "    elif i==h//2:\n",
    "        print(\"WELCOME\".center(w,\"-\"))\n",
    "    elif i>h//2 :\n",
    "      k-=2\n",
    "      print((\".|.\"*k).center(w,\"-\"))"
   ]
  },
  {
   "cell_type": "code",
   "execution_count": null,
   "id": "9855e091",
   "metadata": {},
   "outputs": [],
   "source": [
    "#Alphabet Rangoli\n",
    "\n",
    "def print_rangoli(size):\n",
    "    alphabet = \"abcdefghijklmnopqrstuvwxyz\"\n",
    "    data = [alphabet[i] for i in range(size)]\n",
    "    layers = list(range(size))\n",
    "    layers = layers[:-1]+layers[::-1]\n",
    "    for i in layers:\n",
    "        temp = data[-(i+1):]\n",
    "        row = temp[::-1]+temp[1:]\n",
    "        print(\"-\".join(row).center(n*4-3, \"-\"))\n",
    "\n",
    "if __name__ == '__main__':\n",
    "    n = int(input())\n",
    "    print_rangoli(n)"
   ]
  },
  {
   "cell_type": "code",
   "execution_count": null,
   "id": "752f3d75",
   "metadata": {},
   "outputs": [],
   "source": [
    "#Capitalize!\n",
    "\n",
    "import math\n",
    "import os\n",
    "import random\n",
    "import re\n",
    "import sys\n",
    "\n",
    "def solve(s):\n",
    "    return \" \".join([name.capitalize() for name in s.split(\" \")])\n",
    "\n",
    "if __name__ == '__main__':\n",
    "    fptr = open(os.environ['OUTPUT_PATH'], 'w')\n",
    "\n",
    "    s = input()\n",
    "\n",
    "    result = solve(s)\n",
    "\n",
    "    fptr.write(result + '\\n')\n",
    "\n",
    "    fptr.close()"
   ]
  },
  {
   "cell_type": "code",
   "execution_count": 3,
   "id": "3c873f5e",
   "metadata": {},
   "outputs": [
    {
     "name": "stdout",
     "output_type": "stream",
     "text": [
      "abcdefgh\n",
      "def\n",
      "1\n"
     ]
    }
   ],
   "source": [
    "#Find a String\n",
    "\n",
    "def count_substring(string, sub_string):\n",
    "    return sum(string[i:].startswith(sub_string) for i in range(len(string)))\n",
    "if __name__ == '__main__':\n",
    "    string = input().strip()\n",
    "    sub_string = input().strip()\n",
    "    \n",
    "    count = count_substring(string, sub_string)\n",
    "    print(count)"
   ]
  },
  {
   "cell_type": "code",
   "execution_count": 4,
   "id": "18ea9acc",
   "metadata": {},
   "outputs": [
    {
     "name": "stdout",
     "output_type": "stream",
     "text": [
      "abcdefgh\n",
      "4 y\n",
      "abcdyfgh\n"
     ]
    }
   ],
   "source": [
    "#Mutations\n",
    "\n",
    "def mutate_string(string, position, character):\n",
    "    return string[:position]+character+string[position+1:]\n",
    "if __name__ == '__main__':\n",
    "    s = input()\n",
    "    i, c = input().split()\n",
    "    s_new = mutate_string(s, int(i), c)\n",
    "    print(s_new)"
   ]
  },
  {
   "cell_type": "code",
   "execution_count": 5,
   "id": "47b8e557",
   "metadata": {},
   "outputs": [
    {
     "name": "stdout",
     "output_type": "stream",
     "text": [
      "AABCAAADA\n",
      "3\n",
      "AB\n",
      "CA\n",
      "AD\n"
     ]
    }
   ],
   "source": [
    "# Merge The Tools!\n",
    "\n",
    "def merge_the_tools(string, k):\n",
    "    l = len(string)//k\n",
    "    for i in range(l):\n",
    "        print(''.join(dict.fromkeys(string[i*k:(i*k)+k])))\n",
    "if __name__ == '__main__':\n",
    "    string, k = input(), int(input())\n",
    "    merge_the_tools(string, k)"
   ]
  },
  {
   "cell_type": "code",
   "execution_count": 6,
   "id": "8c672a15",
   "metadata": {},
   "outputs": [
    {
     "name": "stdout",
     "output_type": "stream",
     "text": [
      "5\n",
      "  1   1   1   1\n",
      "  2   2   2  10\n",
      "  3   3   3  11\n",
      "  4   4   4 100\n",
      "  5   5   5 101\n"
     ]
    }
   ],
   "source": [
    "#String Formatting\n",
    "\n",
    "def print_formatted(number):\n",
    "    a = format(number,'b')\n",
    "    size = len(a)\n",
    "    for i in range(1,n+1):\n",
    "        octa = format(i,'o')\n",
    "        hexa = format(i,'X')\n",
    "        bina = format(i,'b')\n",
    "        print(str(i).rjust(size),str(octa).rjust(size),str(hexa).rjust(size),str(bina).rjust(size))\n",
    "if __name__ == '__main__':\n",
    "    n = int(input())\n",
    "    print_formatted(n)"
   ]
  },
  {
   "cell_type": "code",
   "execution_count": 7,
   "id": "e19f0689",
   "metadata": {},
   "outputs": [
    {
     "name": "stdout",
     "output_type": "stream",
     "text": [
      "banana\n",
      "Stuart 21\n"
     ]
    }
   ],
   "source": [
    "#The minion game\n",
    "\n",
    "def minion_game(string):\n",
    "    vowel = \"AEIOU\"\n",
    "    sc = 0\n",
    "    kc = 0\n",
    "    x = len(string)\n",
    "    for i in range(x):\n",
    "        if string[i] in vowel:\n",
    "            kc += x - i\n",
    "        else:\n",
    "            sc += x - i\n",
    "    if sc > kc:\n",
    "        print(\"Stuart\", str(sc))\n",
    "    elif kc > sc:\n",
    "        print(\"Kevin\", str(kc))\n",
    "    else:\n",
    "        print(\"Draw\")\n",
    "\n",
    "\n",
    "if __name__ == '__main__':\n",
    "    s = input()\n",
    "    minion_game(s)"
   ]
  },
  {
   "cell_type": "code",
   "execution_count": null,
   "id": "8fd7312f",
   "metadata": {},
   "outputs": [],
   "source": []
  }
 ],
 "metadata": {
  "kernelspec": {
   "display_name": "Python 3",
   "language": "python",
   "name": "python3"
  },
  "language_info": {
   "codemirror_mode": {
    "name": "ipython",
    "version": 3
   },
   "file_extension": ".py",
   "mimetype": "text/x-python",
   "name": "python",
   "nbconvert_exporter": "python",
   "pygments_lexer": "ipython3",
   "version": "3.8.8"
  }
 },
 "nbformat": 4,
 "nbformat_minor": 5
}
